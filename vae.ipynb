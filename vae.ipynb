{
  "nbformat": 4,
  "nbformat_minor": 0,
  "metadata": {
    "colab": {
      "provenance": [],
      "gpuType": "T4",
      "authorship_tag": "ABX9TyPnZXQP4sH98UvxCFAU0M7+",
      "include_colab_link": true
    },
    "kernelspec": {
      "name": "python3",
      "display_name": "Python 3"
    },
    "language_info": {
      "name": "python"
    },
    "accelerator": "GPU"
  },
  "cells": [
    {
      "cell_type": "markdown",
      "metadata": {
        "id": "view-in-github",
        "colab_type": "text"
      },
      "source": [
        "<a href=\"https://colab.research.google.com/github/Rohit1217/VAE/blob/main/vae.ipynb\" target=\"_parent\"><img src=\"https://colab.research.google.com/assets/colab-badge.svg\" alt=\"Open In Colab\"/></a>"
      ]
    },
    {
      "cell_type": "code",
      "execution_count": 6,
      "metadata": {
        "id": "1-795nioIUdy"
      },
      "outputs": [],
      "source": [
        "import numpy as np\n",
        "import matplotlib.pyplot as plt\n",
        "\n",
        "import torch\n",
        "from torchvision import datasets,transforms\n",
        "from torch.utils.data import TensorDataset,DataLoader\n",
        "import torch.nn as nn\n",
        "import torch.optim as optim\n",
        "import torch.nn.functional as F"
      ]
    },
    {
      "cell_type": "code",
      "source": [
        "def get_device():\n",
        "  return torch.device(\"cuda\" if torch.cuda.is_available() else \"cpu\")"
      ],
      "metadata": {
        "id": "MojTgtmbsZoe"
      },
      "execution_count": 92,
      "outputs": []
    },
    {
      "cell_type": "code",
      "source": [
        "# Transformations\n",
        "transform = transforms.Compose([transforms.ToTensor(),transforms.Normalize((128,),(128,))])\n",
        "\n",
        "# Load MNIST dataset\n",
        "trainset = datasets.MNIST(root='./data', train=True, transform=transform, download=True)\n",
        "testset = datasets.MNIST(root='./data', train=False, transform=transform, download=True)\n",
        "\n",
        "# Data loaders\n",
        "trainloader = DataLoader(dataset=trainset, batch_size=128, shuffle=True)\n",
        "testloader = DataLoader(dataset=testset, batch_size=128,shuffle=False)"
      ],
      "metadata": {
        "id": "PbidGxdDM2CM"
      },
      "execution_count": 9,
      "outputs": []
    },
    {
      "cell_type": "code",
      "source": [
        "class Encoder(nn.Module):\n",
        "  def __init__(self,in_channels,out_channels,kernel,latent_dim):\n",
        "    super(Encoder,self).__init__()\n",
        "    self.in_channels=in_channels\n",
        "    self.out_channels=out_channels\n",
        "    self.latent_dim=latent_dim\n",
        "    self.conv1=nn.Conv2d(in_channels,out_channels,kernel+2)\n",
        "    self.conv2=nn.Conv2d(out_channels,out_channels,kernel)\n",
        "    self.conv3=nn.Conv2d(out_channels,out_channels,kernel)\n",
        "    self.conv4=nn.Conv2d(out_channels,out_channels,kernel)\n",
        "    self.conv5=nn.Conv2d(out_channels,2,kernel)\n",
        "    self.conv6=nn.Conv2d(out_channels,2,kernel)\n",
        "  def forward(self,x):\n",
        "    x=self.conv1(x)\n",
        "    x=self.conv2(x)\n",
        "    x=self.conv3(x)\n",
        "    x=self.conv4(x)\n",
        "    x=self.conv5(x)\n",
        "    mean,log_variance=x[:,0],x[:,1]\n",
        "    epsilon=torch.randn(self.latent_dim,self.latent_dim)\n",
        "    z=mean+epsilon*torch.exp(2*log_variance)\n",
        "    return mean,log_variance,z\n",
        "\n",
        "'''enc=Encoder(1,64,5,6)\n",
        "x=enc(torch.ones(6,1,28,28))\n",
        "x[0].shape,x[2].shape'''"
      ],
      "metadata": {
        "colab": {
          "base_uri": "https://localhost:8080/"
        },
        "id": "0brnBAIoNPY6",
        "outputId": "9a6bdfc7-45dd-4f87-9bda-50e9be868f3e"
      },
      "execution_count": 91,
      "outputs": [
        {
          "output_type": "execute_result",
          "data": {
            "text/plain": [
              "(torch.Size([6, 6, 6]), torch.Size([6, 6, 6]))"
            ]
          },
          "metadata": {},
          "execution_count": 91
        }
      ]
    },
    {
      "cell_type": "code",
      "source": [
        "class Decoder(nn.Module):\n",
        "  def __init__(self,in_channels,out_channels,kernel,input_dim):\n",
        "    super(Decoder,self).__init__()\n",
        "    self.in_channels=in_channels\n",
        "    self.out_channels=out_channels\n",
        "    self.input_dim=input_dim\n",
        "    self.conv1=nn.ConvTranspose2d(in_channels,out_channels,kernel)\n",
        "    self.conv2=nn.ConvTranspose2d(out_channels,out_channels,kernel)\n",
        "    self.conv3=nn.ConvTranspose2d(out_channels,out_channels,kernel)\n",
        "    self.conv4=nn.ConvTranspose2d(out_channels,out_channels,kernel)\n",
        "    self.conv5=nn.ConvTranspose2d(out_channels,2,kernel+2)\n",
        "    self.conv6=nn.ConvTranspose2d(out_channels,out_channels,kernel)\n",
        "    self.register_buffer('epsilon',torch.randn(self.input_dim,self.input_dim))\n",
        "\n",
        "  def forward(self,x):\n",
        "    x=F.relu(self.conv1(x))\n",
        "    x=F.relu(self.conv2(x))\n",
        "    x=F.relu(self.conv3(x))\n",
        "    x=F.relu(self.conv4(x))\n",
        "    x=F.relu(self.conv5(x))\n",
        "    mean,variance=x[:,0],x[:,1]\n",
        "    return mean+self.epsilon*variance\n",
        "\n",
        "\n",
        "'''enc=Decoder(1,64,5,28)\n",
        "x=enc(torch.ones(2,1,6,6))\n",
        "x.shape,x'''"
      ],
      "metadata": {
        "id": "7TlJd5_xNtku"
      },
      "execution_count": null,
      "outputs": []
    },
    {
      "cell_type": "code",
      "source": [
        "class VAE(nn.Module):\n",
        "  def __init__(self,input_dim,latent_dim,in_channels,out_channels,kernel):\n",
        "    super(VAE,self).__init__()\n",
        "    self.input_dim=input_dim\n",
        "    self.latent_dim=latent_dim\n",
        "    self.encoder=Encoder(in_channels,out_channels,kernel,latent_dim)\n",
        "    self.decoder=Decoder(in_channels,out_channels,kernel,input_dim)\n",
        "    self.e=1e-8\n",
        "\n",
        "  def forward(self,x):\n",
        "    z,mean,log_variance=self.encoder(x)\n",
        "    b,w,h=z.shape\n",
        "    z=z.view(b,1,w,h)\n",
        "    x=x.view(b,self.input_dim,self.input_dim)\n",
        "    x_re=self.decoder(z)\n",
        "    return x_re,x,mean,log_variance\n",
        "\n",
        "\n",
        "vae=VAE(28,6,1,64,5)\n",
        "x=vae(torch.randn(6,1,28,28))\n",
        "x[0].shape,x[1].shape,x[2].shape,x[3].shape,x"
      ],
      "metadata": {
        "id": "AaofEvO7TO1y"
      },
      "execution_count": null,
      "outputs": []
    },
    {
      "cell_type": "code",
      "source": [
        "def Loss(x_re,x_or,mean,log_variance):\n",
        "  re_loss=F.mse_loss(x_re,x_or,reduction='mean')\n",
        "  d=mean.shape[1]\n",
        "  kl=0.5*torch.sum(1+log_variance-torch.exp(log_variance)-torch.pow(mean,2))\n",
        "  return re_loss+kl"
      ],
      "metadata": {
        "id": "GEdJOX_GiBVl"
      },
      "execution_count": 86,
      "outputs": []
    },
    {
      "cell_type": "code",
      "source": [
        "'''Loss(x[0],x[1],x[2],x[3])'''"
      ],
      "metadata": {
        "colab": {
          "base_uri": "https://localhost:8080/"
        },
        "id": "UY56E26_o1Cb",
        "outputId": "4574ca52-6346-4381-9f08-ea4dc7e82f4e"
      },
      "execution_count": 87,
      "outputs": [
        {
          "output_type": "execute_result",
          "data": {
            "text/plain": [
              "tensor(-82.6075, grad_fn=<AddBackward0>)"
            ]
          },
          "metadata": {},
          "execution_count": 87
        }
      ]
    },
    {
      "cell_type": "code",
      "source": [
        "model=VAE(28,6,1,64,5)\n",
        "model=model.to(get_device())\n",
        "epochs=50\n",
        "optimizer=optim.Adam(model.parameters(),lr=0.001)"
      ],
      "metadata": {
        "colab": {
          "base_uri": "https://localhost:8080/"
        },
        "id": "WOXDu_EzmOMv",
        "outputId": "c512e30c-e77d-4eb0-88f2-12e129ca80f6"
      },
      "execution_count": 80,
      "outputs": [
        {
          "output_type": "execute_result",
          "data": {
            "text/plain": [
              "tensor(43.0873)"
            ]
          },
          "metadata": {},
          "execution_count": 80
        }
      ]
    },
    {
      "cell_type": "code",
      "source": [
        "for epoch in epochs():\n",
        "  total_loss=0\n",
        "  count=0\n",
        "  for x,_ in trainloader:\n",
        "    x.to(get_device())\n",
        "    x_re,x,mean,log_variance=model(x)\n",
        "    loss=Loss(x_re,x,mean,log_variance)\n",
        "\n",
        "    total_loss+=loss.item()\n",
        "    count+=1\n",
        "\n",
        "    optimizer.zero_grad()\n",
        "    loss.backward()\n",
        "    optimizer.step()\n",
        "\n",
        "  print(f'total_loss{total_loss},mse_loss{total_loss/count},epoch{epoch}')"
      ],
      "metadata": {
        "id": "82zkGTYZpjqy"
      },
      "execution_count": null,
      "outputs": []
    }
  ]
}