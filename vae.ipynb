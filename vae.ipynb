{
  "nbformat": 4,
  "nbformat_minor": 0,
  "metadata": {
    "colab": {
      "provenance": [],
      "gpuType": "T4",
      "authorship_tag": "ABX9TyMpK82oS687Y8gAot/6cL19",
      "include_colab_link": true
    },
    "kernelspec": {
      "name": "python3",
      "display_name": "Python 3"
    },
    "language_info": {
      "name": "python"
    },
    "accelerator": "GPU"
  },
  "cells": [
    {
      "cell_type": "markdown",
      "metadata": {
        "id": "view-in-github",
        "colab_type": "text"
      },
      "source": [
        "<a href=\"https://colab.research.google.com/github/Rohit1217/VAE/blob/main/vae.ipynb\" target=\"_parent\"><img src=\"https://colab.research.google.com/assets/colab-badge.svg\" alt=\"Open In Colab\"/></a>"
      ]
    },
    {
      "cell_type": "code",
      "execution_count": 18,
      "metadata": {
        "id": "1-795nioIUdy"
      },
      "outputs": [],
      "source": [
        "import numpy as np\n",
        "import matplotlib.pyplot as plt\n",
        "\n",
        "import torch\n",
        "from torchvision import datasets,transforms\n",
        "from torch.utils.data import TensorDataset,DataLoader\n",
        "import torch.nn as nn\n",
        "import torch.optim as optim\n",
        "import torch.nn.functional as F"
      ]
    },
    {
      "cell_type": "code",
      "source": [
        "def get_device():\n",
        "  return torch.device(\"cuda\" if torch.cuda.is_available() else \"cpu\")"
      ],
      "metadata": {
        "id": "MojTgtmbsZoe"
      },
      "execution_count": 19,
      "outputs": []
    },
    {
      "cell_type": "code",
      "source": [
        "# Transformations\n",
        "transform = transforms.Compose([transforms.ToTensor(),transforms.Normalize((128,),(128,))])\n",
        "\n",
        "# Load MNIST dataset\n",
        "trainset = datasets.MNIST(root='./data', train=True, transform=transform, download=True)\n",
        "testset = datasets.MNIST(root='./data', train=False, transform=transform, download=True)\n",
        "\n",
        "# Data loaders\n",
        "trainloader = DataLoader(dataset=trainset, batch_size=128, shuffle=True)\n",
        "testloader = DataLoader(dataset=testset, batch_size=128,shuffle=False)"
      ],
      "metadata": {
        "id": "PbidGxdDM2CM"
      },
      "execution_count": 20,
      "outputs": []
    },
    {
      "cell_type": "code",
      "source": [
        "class Encoder(nn.Module):\n",
        "  def __init__(self,in_channels,out_channels,kernel,latent_dim):\n",
        "    super(Encoder,self).__init__()\n",
        "    self.in_channels=in_channels\n",
        "    self.out_channels=out_channels\n",
        "    self.latent_dim=latent_dim\n",
        "    self.conv1=nn.Conv2d(in_channels,out_channels,kernel+2)\n",
        "    self.conv2=nn.Conv2d(out_channels,out_channels,kernel)\n",
        "    self.conv3=nn.Conv2d(out_channels,out_channels,kernel)\n",
        "    self.conv4=nn.Conv2d(out_channels,out_channels,kernel)\n",
        "    self.conv5=nn.Conv2d(out_channels,2,kernel)\n",
        "    self.conv6=nn.Conv2d(out_channels,2,kernel)\n",
        "    self.bn1=nn.BatchNorm2d(out_channels)\n",
        "    self.bn2=nn.BatchNorm2d(out_channels)\n",
        "    self.bn3=nn.BatchNorm2d(out_channels)\n",
        "    self.bn4=nn.BatchNorm2d(out_channels)\n",
        "    self.bn5=nn.BatchNorm2d(2)\n",
        "\n",
        "\n",
        "  def forward(self,x):\n",
        "    x=F.gelu(self.bn1(self.conv1(x)))\n",
        "    x=F.gelu(self.bn2(self.conv2(x)))\n",
        "    x=F.gelu(self.bn3(self.conv3(x)))\n",
        "    x=F.gelu(self.bn4(self.conv4(x)))\n",
        "    x=F.gelu(self.bn5(self.conv5(x)))\n",
        "    mean,log_variance=x[:,0],x[:,1]\n",
        "    epsilon=torch.randn(self.latent_dim,self.latent_dim).to(get_device())\n",
        "    z=mean+epsilon*log_variance\n",
        "    return mean,log_variance,z\n",
        "\n",
        "'''enc=Encoder(1,64,5,6)\n",
        "x=enc(torch.ones(6,1,28,28))\n",
        "x[0].shape,x[2].shape'''"
      ],
      "metadata": {
        "colab": {
          "base_uri": "https://localhost:8080/",
          "height": 35
        },
        "id": "0brnBAIoNPY6",
        "outputId": "ac5638a4-db6f-43f5-9bf7-9eb93c221c0b"
      },
      "execution_count": 21,
      "outputs": [
        {
          "output_type": "execute_result",
          "data": {
            "text/plain": [
              "'enc=Encoder(1,64,5,6)\\nx=enc(torch.ones(6,1,28,28))\\nx[0].shape,x[2].shape'"
            ],
            "application/vnd.google.colaboratory.intrinsic+json": {
              "type": "string"
            }
          },
          "metadata": {},
          "execution_count": 21
        }
      ]
    },
    {
      "cell_type": "code",
      "source": [
        "class Decoder(nn.Module):\n",
        "  def __init__(self,in_channels,out_channels,kernel,input_dim):\n",
        "    super(Decoder,self).__init__()\n",
        "    self.in_channels=in_channels\n",
        "    self.out_channels=out_channels\n",
        "    self.input_dim=input_dim\n",
        "    self.conv1=nn.ConvTranspose2d(in_channels,out_channels,kernel )\n",
        "    self.conv2=nn.ConvTranspose2d(out_channels,out_channels,kernel)\n",
        "    self.conv3=nn.ConvTranspose2d(out_channels,out_channels,kernel)\n",
        "    self.conv4=nn.ConvTranspose2d(out_channels,out_channels,kernel)\n",
        "    self.conv5=nn.ConvTranspose2d(out_channels,2,kernel+2)\n",
        "    self.conv6=nn.ConvTranspose2d(out_channels,out_channels,kernel)\n",
        "    self.bn1=nn.BatchNorm2d(out_channels)\n",
        "    self.bn2=nn.BatchNorm2d(out_channels)\n",
        "    self.bn3=nn.BatchNorm2d(out_channels)\n",
        "    self.bn4=nn.BatchNorm2d(out_channels)\n",
        "    self.bn5=nn.BatchNorm2d(2)\n",
        "\n",
        "\n",
        "  def forward(self,x):\n",
        "    x=F.gelu(self.bn1(self.conv1(x)))\n",
        "    x=F.gelu(self.bn2(self.conv2(x)))\n",
        "    x=F.gelu(self.bn3(self.conv3(x)))\n",
        "    x=F.gelu(self.bn4(self.conv4(x)))\n",
        "    x=F.gelu(self.bn5(self.conv5(x)))\n",
        "    mean,variance=x[:,0],x[:,1]\n",
        "    epsilon=torch.randn(self.input_dim,self.input_dim).to(get_device())\n",
        "    return mean+epsilon*variance\n",
        "\n",
        "'''enc=Decoder(1,64,5,28)\n",
        "x=enc(torch.ones(2,1,6,6))\n",
        "x.shape,x'''"
      ],
      "metadata": {
        "colab": {
          "base_uri": "https://localhost:8080/",
          "height": 35
        },
        "id": "7TlJd5_xNtku",
        "outputId": "f41ac8dd-d6e1-49a5-b358-2c1837184c42"
      },
      "execution_count": 22,
      "outputs": [
        {
          "output_type": "execute_result",
          "data": {
            "text/plain": [
              "'enc=Decoder(1,64,5,28)\\nx=enc(torch.ones(2,1,6,6))\\nx.shape,x'"
            ],
            "application/vnd.google.colaboratory.intrinsic+json": {
              "type": "string"
            }
          },
          "metadata": {},
          "execution_count": 22
        }
      ]
    },
    {
      "cell_type": "code",
      "source": [
        "class VAE(nn.Module):\n",
        "  def __init__(self,input_dim,latent_dim,in_channels,out_channels,kernel):\n",
        "    super(VAE,self).__init__()\n",
        "    self.input_dim=input_dim\n",
        "    self.latent_dim=latent_dim\n",
        "    self.encoder=Encoder(in_channels,out_channels,kernel,latent_dim)\n",
        "    self.decoder=Decoder(in_channels,out_channels,kernel,input_dim)\n",
        "    self.e=1e-8\n",
        "\n",
        "  def forward(self,x):\n",
        "    z,mean,log_variance=self.encoder(x)\n",
        "    b,w,h=z.shape\n",
        "    z=z.view(b,1,w,h)\n",
        "    x=x.view(b,self.input_dim,self.input_dim)\n",
        "    x_re=self.decoder(z)\n",
        "    return x_re,x,mean,log_variance\n",
        "\n",
        "'''vae=VAE(28,6,1,64,5)\n",
        "x=vae(torch.randn(6,1,28,28))\n",
        "x[0].shape,x[1].shape,x[2].shape,x[3].shape,x'''"
      ],
      "metadata": {
        "colab": {
          "base_uri": "https://localhost:8080/",
          "height": 35
        },
        "id": "AaofEvO7TO1y",
        "outputId": "1f0f57a6-6f78-4708-87c6-0ea6f5306130"
      },
      "execution_count": 23,
      "outputs": [
        {
          "output_type": "execute_result",
          "data": {
            "text/plain": [
              "'vae=VAE(28,6,1,64,5)\\nx=vae(torch.randn(6,1,28,28))\\nx[0].shape,x[1].shape,x[2].shape,x[3].shape,x'"
            ],
            "application/vnd.google.colaboratory.intrinsic+json": {
              "type": "string"
            }
          },
          "metadata": {},
          "execution_count": 23
        }
      ]
    },
    {
      "cell_type": "code",
      "source": [
        "def Loss(x_re,x_or,mean,log_variance):\n",
        "  re_loss=F.binary_cross_entropy_with_logits(x_re,x_or)\n",
        "  b,c,c=mean.shape\n",
        "  log_variance=log_variance.view(b,c*c)\n",
        "  mean=mean.view(b,c*c)\n",
        "  kl=torch.sum(-0.5*(1+log_variance-torch.exp(log_variance)-torch.pow(mean,2)),dim=1)\n",
        "  kl=torch.mean(kl)\n",
        "  return (re_loss+kl)\n",
        "'''Loss(x[0],x[1],x[2],x[3])'''"
      ],
      "metadata": {
        "colab": {
          "base_uri": "https://localhost:8080/",
          "height": 35
        },
        "id": "GEdJOX_GiBVl",
        "outputId": "251e9bd5-011a-4ff0-bdc8-92ede2e2d0aa"
      },
      "execution_count": 31,
      "outputs": [
        {
          "output_type": "execute_result",
          "data": {
            "text/plain": [
              "'Loss(x[0],x[1],x[2],x[3])'"
            ],
            "application/vnd.google.colaboratory.intrinsic+json": {
              "type": "string"
            }
          },
          "metadata": {},
          "execution_count": 31
        }
      ]
    },
    {
      "cell_type": "code",
      "source": [],
      "metadata": {
        "id": "WOXDu_EzmOMv"
      },
      "execution_count": 24,
      "outputs": []
    },
    {
      "cell_type": "code",
      "source": [
        "model=VAE(28,6,1,64,5)\n",
        "model=model.to(get_device())\n",
        "epochs=50\n",
        "optimizer=optim.Adam(model.parameters(),lr=0.0001)\n",
        "for epoch in range(epochs):\n",
        "  total_loss=0\n",
        "  count=0\n",
        "  for x,_ in trainloader:\n",
        "    x=x.to(get_device())\n",
        "    x_re,x,mean,log_variance=model(x)\n",
        "    loss=Loss(x_re,x,mean,log_variance)\n",
        "\n",
        "    total_loss+=loss.item()\n",
        "    count+=1\n",
        "    #print(total_loss)\n",
        "\n",
        "    optimizer.zero_grad()\n",
        "    loss.backward()\n",
        "    torch.nn.utils.clip_grad_norm_(model.parameters(), max_norm=1.0)\n",
        "    optimizer.step()\n",
        "\n",
        "    #for name, param in model.decoder.named_parameters():\n",
        "    #  if param.grad is not None:\n",
        "    #    pass\n",
        "    #      #print(f'a')\n",
        "      #print(x_re,x,mean,log_variance,loss)\n",
        "\n",
        "\n",
        "  print(f'total_loss{total_loss},mse_loss{total_loss/count},epoch{epoch}')"
      ],
      "metadata": {
        "colab": {
          "base_uri": "https://localhost:8080/"
        },
        "id": "82zkGTYZpjqy",
        "outputId": "4a1fdc5f-0afb-4945-c3e3-2132e279f99e"
      },
      "execution_count": null,
      "outputs": [
        {
          "output_type": "stream",
          "name": "stdout",
          "text": [
            "total_loss792.460310280323,mse_loss1.689680832154207,epoch0\n",
            "total_loss331.8506664633751,mse_loss0.707570717405917,epoch1\n",
            "total_loss299.08503019809723,mse_loss0.6377079535140666,epoch2\n",
            "total_loss279.17622715234756,mse_loss0.5952584800689713,epoch3\n",
            "total_loss266.8673520088196,mse_loss0.5690135437288264,epoch4\n",
            "total_loss254.9687301516533,mse_loss0.543643347871329,epoch5\n",
            "total_loss246.9825857281685,mse_loss0.5266153213820224,epoch6\n",
            "total_loss239.7787883579731,mse_loss0.5112554122771281,epoch7\n",
            "total_loss240.9404255449772,mse_loss0.5137322506289492,epoch8\n",
            "total_loss229.82168939709663,mse_loss0.4900249240876261,epoch9\n",
            "total_loss225.63838201761246,mse_loss0.4811052921484274,epoch10\n",
            "total_loss222.65713903307915,mse_loss0.47474869729867625,epoch11\n",
            "total_loss228.17144256830215,mse_loss0.4865062741328404,epoch12\n",
            "total_loss215.7156921029091,mse_loss0.45994817079511535,epoch13\n"
          ]
        }
      ]
    },
    {
      "cell_type": "code",
      "source": [
        "for x,_ in trainloader:\n",
        "  y=x\n",
        "  x=x.to(get_device())\n",
        "  z=torch.randn(6,1,6,6)\n",
        "  z=z.to('cuda:0')\n",
        "  mean,log_variance,z=model.encoder(x)\n",
        "  z=z.view(128,1,6,6)\n",
        "  x=model.decoder(z)\n",
        "  print(x[0].shape)\n",
        "  x=x[5]\n",
        "  x=x.view(28,28)\n",
        "  #x=data[0].view(28,28)\n",
        "  x=x.to('cpu')\n",
        "  image_np = x.detach().numpy()\n",
        "  break\n",
        "# Display the image using matplotlib\n",
        "\n",
        "plt.imshow(image_np, cmap='gray')  # 'gray' colormap is used for grayscale images\n",
        "plt.axis('off')  # Turn off axis labels\n",
        "plt.show()"
      ],
      "metadata": {
        "colab": {
          "base_uri": "https://localhost:8080/",
          "height": 423
        },
        "id": "8lXkmhqs3UGY",
        "outputId": "c31b2a39-127d-4d7e-ad80-c40728bcfe85"
      },
      "execution_count": 38,
      "outputs": [
        {
          "output_type": "stream",
          "name": "stdout",
          "text": [
            "torch.Size([28, 28])\n"
          ]
        },
        {
          "output_type": "display_data",
          "data": {
            "text/plain": [
              "<Figure size 640x480 with 1 Axes>"
            ],
            "image/png": "[encoded data removed]"
          },
          "metadata": {}
        }
      ]
    }
  ]
}